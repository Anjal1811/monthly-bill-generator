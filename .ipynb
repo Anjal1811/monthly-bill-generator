from datetime import datetime
from calendar import monthrange
from collections import defaultdict
import json

# Dummy data (10 items)
item_list = [
    {"idx": 1, "item_code": "Executive Desk (4*2)", "qty": 10, "rate": "1000", "start_date": "2024-10-01", "stop_date": "2024-12-01"},
    {"idx": 2, "item_code": "Executive Desk (4*2)", "qty": "5", "rate": 1000, "start_date": "2024-11-10", "stop_date": "2025-01-01"},
    {"idx": 3, "item_code": "Manager Cabin", "qty": "3", "rate": "5000", "start_date": "2024-11-01", "stop_date": "2024-11-30"},
    {"idx": 4, "item_code": "Parking (2S)", "qty": 2, "rate": 1000, "start_date": "2024-11-05", "stop_date": "2024-12-05"},
    {"idx": 5, "item_code": "Reception Desk", "qty": "1", "rate": "7000", "start_date": "2024-10-01", "stop_date": "2024-11-15"},
    {"idx": 6, "item_code": "Breakout Area", "qty": 3, "rate": "3000", "start_date": "2024-11-01", "stop_date": "2024-11-20"},
    {"idx": 7, "item_code": "Manager Cabin", "qty": 1, "rate": 5200, "start_date": "2024-10-10", "stop_date": "2024-11-10"},
    {"idx": 8, "item_code": "Executive Desk (4*2)", "qty": 2, "rate": 1100, "start_date": "2024-11-15", "stop_date": "2025-01-15"},
    {"idx": 9, "item_code": "Conference Table", "qty": 1, "rate": "20000", "start_date": "2024-11-05", "stop_date": "2024-11-20"},
    {"idx": 10, "item_code": "Reception Desk", "qty": 2, "rate": 7000, "start_date": "2024-11-10", "stop_date": "2024-11-25"},
]

def generate_monthly_bill(item_list, target_month):
    year, month = map(int, target_month.split("-"))
    start_month = datetime(year, month, 1)
    end_month = datetime(year, month, monthrange(year, month)[1])

    grouped = defaultdict(lambda: {"qty": 0, "amount": 0.0, "idx": []})
    total_revenue = 0.0

    for item in item_list:
        start_date = datetime.strptime(item["start_date"], "%Y-%m-%d")
        stop_date = datetime.strptime(item["stop_date"], "%Y-%m-%d")

        if stop_date < start_month or start_date > end_month:
            continue

        active_start = max(start_date, start_month)
        active_end = min(stop_date, end_month)
        active_days = (active_end - active_start).days + 1
        days_in_month = (end_month - start_month).days + 1

        qty = int(item["qty"])
        rate = float(item["rate"])
        daily_rate = rate / days_in_month
        amount = round(daily_rate * active_days * qty, 2)
        billing_period = f"{active_start.date()} to {active_end.date()}"

        group_key = (item["item_code"], rate, billing_period)
        grouped[group_key]["qty"] += qty
        grouped[group_key]["amount"] += amount
        grouped[group_key]["idx"].append(item["idx"])
        total_revenue += amount

    output = {
        "line_items": [],
        "total_revenue": round(total_revenue, 2)
    }

    for (item_code, rate, period), values in grouped.items():
        output["line_items"].append({
            "item_code": item_code,
            "rate": rate,
            "qty": values["qty"],
            "amount": round(values["amount"], 2),
            "billing_period": period,
            "idx": values["idx"]
        })

    return output

# Run the function and get JSON output
bill_output = generate_monthly_bill(item_list, "2024-11")

# Pretty print JSON
print(json.dumps(bill_output, indent=2))

